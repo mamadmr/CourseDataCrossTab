{
 "cells": [
  {
   "cell_type": "code",
   "execution_count": 252,
   "metadata": {},
   "outputs": [],
   "source": [
    "import pandas as pd \n",
    "import matplotlib.pyplot as plt \n",
    "import networkx as nx \n",
    "\n"
   ]
  },
  {
   "cell_type": "code",
   "execution_count": 253,
   "metadata": {},
   "outputs": [
    {
     "name": "stdout",
     "output_type": "stream",
     "text": [
      "[1710105, 1710204, 1710210, 1710217, 1710250, 1710417, 1712212, 1712312, 1712315, 1712401, 1712417, 1712432, 1712444, 1712452, 1714297, 1714303, 1714308, 1714320, 1714396, 1714417, 1714480, 1716310, 1716405, 1716408, 1716410, 1716430, 1716448, 1718210, 1718217, 1718303, 1718312, 1718402, 1718416, 1718417, 1718425, 1718436, 1718448, 1718450, 1720405, 1730115, 1730120, 1730151, 1730155, 1730217, 1730220, 1730400, 1730402, 1730403, 1730420, 1730430, 1730435, 1730460, 1730499, 1732203, 1732207, 1732208, 1732303, 1732308, 1732312, 1732401, 1732417, 1734102, 1734212, 1734303, 1734308, 1734333, 1734400, 1734425, 1734449, 1734452, 1736310, 1740320, 1740350, 1740404, 1740417]\n"
     ]
    }
   ],
   "source": [
    "raw_data = pd.read_csv(\"raw_data.csv\", header=None)\n",
    "ignore_subject = set([1736438, 1740312, 1718449, 1716494, 1730150, 1720400, 1710201, 1710300, 1710404, 1712301, 1712404, 1714304, 1714406,1714429, 1714469, 1716401, 1716440, 1716444, 1716452, 1718404, 1718406, 1718452, 1720415, 1730101, 1730108, 1730404, 1732204])\n",
    "all_subject = set(raw_data.iloc[:, 3])\n",
    "our_subject = sorted(list(all_subject - ignore_subject))\n",
    "print(our_subject)"
   ]
  },
  {
   "cell_type": "code",
   "execution_count": 254,
   "metadata": {},
   "outputs": [],
   "source": [
    "def CrossCount(first, second):\n",
    "    mask1 = raw_data.iloc[:,3] == first\n",
    "    mask2 = raw_data.iloc[:,4] == second\n",
    "    mask = mask2 & mask1\n",
    "\n",
    "    group = raw_data[mask]\n",
    "    return sum(group.iloc[:, 2])"
   ]
  },
  {
   "cell_type": "code",
   "execution_count": 255,
   "metadata": {},
   "outputs": [],
   "source": [
    "cross_matrix = [[0 for j in our_subject] for i in our_subject]\n",
    "\n",
    "for x in range(len(our_subject)):\n",
    "    for y in range(len(our_subject)):\n",
    "        cross_matrix[x][y] = max(CrossCount(our_subject[x], our_subject[y]), CrossCount(our_subject[y], our_subject[x]))"
   ]
  },
  {
   "cell_type": "code",
   "execution_count": 256,
   "metadata": {},
   "outputs": [
    {
     "name": "stdout",
     "output_type": "stream",
     "text": [
      "         1710105  1710204  1710210  1710217  1710250  1710417  1712212   \n",
      "1710105      200      157        8       21        0        0       12  \\\n",
      "1710204      157      296        6       11        0        0        8   \n",
      "1710210        8        6      105        0        0        0       98   \n",
      "1710217       21       11        0       63        0        0        0   \n",
      "1710250        0        0        0        0       73        0        0   \n",
      "...          ...      ...      ...      ...      ...      ...      ...   \n",
      "1736310        0        0        0        0        0        0        0   \n",
      "1740320        0        9        0        0        0        0        0   \n",
      "1740350        1        2        0        0        0        8        0   \n",
      "1740404        0        1        0        0        0        0        0   \n",
      "1740417        2        0        0        0        0        0        1   \n",
      "\n",
      "         1712312  1712315  1712401  ...  1734333  1734400  1734425  1734449   \n",
      "1710105        2        1        0  ...        0        0        0        0  \\\n",
      "1710204        0        0        0  ...        1        0        8        1   \n",
      "1710210        0        1        0  ...        0        0        0        0   \n",
      "1710217        0        0        0  ...        0        0        0        0   \n",
      "1710250        0        0        0  ...        0        0        0        0   \n",
      "...          ...      ...      ...  ...      ...      ...      ...      ...   \n",
      "1736310        0        0        0  ...       18        3        1        2   \n",
      "1740320        0        0        0  ...        9        3       81        0   \n",
      "1740350       12        7        9  ...       33       27        0       27   \n",
      "1740404        0        0        0  ...       50        5        9        3   \n",
      "1740417        5       10        2  ...        0        0        0        0   \n",
      "\n",
      "         1734452  1736310  1740320  1740350  1740404  1740417  \n",
      "1710105        0        0        0        1        0        2  \n",
      "1710204        2        0        9        2        1        0  \n",
      "1710210        0        0        0        0        0        0  \n",
      "1710217        0        0        0        0        0        0  \n",
      "1710250        0        0        0        0        0        0  \n",
      "...          ...      ...      ...      ...      ...      ...  \n",
      "1736310        6       22        0        2       10        0  \n",
      "1740320        2        0      123        0       14        0  \n",
      "1740350       23        2        0      137        8       15  \n",
      "1740404       14       10       14        8       74        0  \n",
      "1740417        0        0        0       15        0       46  \n",
      "\n",
      "[75 rows x 75 columns]\n"
     ]
    }
   ],
   "source": [
    "cross_matrix_df = pd.DataFrame(cross_matrix, index=our_subject, columns=our_subject)\n",
    "print(cross_matrix_df)"
   ]
  },
  {
   "cell_type": "code",
   "execution_count": 257,
   "metadata": {},
   "outputs": [],
   "source": [
    "import os \n",
    "os.remove(\"cross_matrix.csv\")\n",
    "cross_matrix_df.to_csv(\"cross_matrix.csv\")"
   ]
  },
  {
   "cell_type": "code",
   "execution_count": 258,
   "metadata": {},
   "outputs": [],
   "source": [
    "edges = []\n",
    "for i in range(len(our_subject)):\n",
    "  for j in range(len(our_subject)):\n",
    "   if cross_matrix[i][j] == 0: \n",
    "      edges.append([i,j])"
   ]
  },
  {
   "cell_type": "code",
   "execution_count": 259,
   "metadata": {},
   "outputs": [
    {
     "name": "stdout",
     "output_type": "stream",
     "text": [
      "37898\n",
      "All complete subgraphs (cliques):\n"
     ]
    }
   ],
   "source": [
    "G = nx.Graph()\n",
    "G.add_edges_from(edges)\n",
    "cliques = list(nx.find_cliques(G))\n",
    "all_kernel_number = []\n",
    "all_kernel_code = []\n",
    "\n",
    "cliques = sorted(cliques, key=lambda x: len(x), reverse=True)\n",
    "print(len(cliques))\n",
    "print(\"All complete subgraphs (cliques):\")\n",
    "for clique in cliques:\n",
    "    all_kernel_code.append([our_subject[i] for i in clique])\n",
    "    all_kernel_number.append(set(clique))\n"
   ]
  },
  {
   "cell_type": "code",
   "execution_count": 260,
   "metadata": {},
   "outputs": [
    {
     "name": "stdout",
     "output_type": "stream",
     "text": [
      "Universe: {0, 1, 2, 3, 4, 5, 6, 7, 8, 9, 10, 11, 12, 13, 14, 15, 16, 17, 18, 19, 20, 21, 22, 23, 24, 25, 26, 27, 28, 29, 30, 31, 32, 33, 34, 35, 36, 37, 38, 39, 40, 41, 42, 43, 44, 45, 46, 47, 48, 49, 50, 51, 52, 53, 54, 55, 56, 57, 58, 59, 60, 61, 62, 63, 64, 65, 66, 67, 68, 69, 70, 71, 72, 73, 74}\n"
     ]
    }
   ],
   "source": [
    "def greedy_set_cover(universe, subsets):\n",
    "    covered = set()  # Tracks covered elements\n",
    "    cover_sets = []  # Holds chosen subsets\n",
    "    \n",
    "    counter = 0\n",
    "    while covered != universe:\n",
    "        counter += 1\n",
    "        if counter > len(subsets)**2:\n",
    "            print(\"Infinite loop detected.\")\n",
    "            break\n",
    "        best_subset = None\n",
    "        max_covered = set()\n",
    "        \n",
    "        for subset in subsets:\n",
    "            new_covered = subset - covered  # Calculate elements covered by the subset\n",
    "            if len(new_covered) > len(max_covered):\n",
    "                best_subset = subset\n",
    "                max_covered = new_covered\n",
    "        \n",
    "        if(best_subset == None):\n",
    "            break\n",
    "        cover_sets.append(best_subset)\n",
    "        covered |= max_covered\n",
    "    \n",
    "    return cover_sets\n",
    "\n",
    "universe = set()\n",
    "for subset in all_kernel_number:\n",
    "    universe |= subset\n",
    "print(\"Universe:\", universe)\n",
    "\n",
    "\n",
    "import random \n",
    "for i in range(1000):\n",
    "    random.shuffle(all_kernel_number)\n",
    "    minimum_cover = greedy_set_cover(universe, all_kernel_number)\n",
    "    if len(minimum_cover) < 16:\n",
    "        print(\"Minimum sets for cover:\", minimum_cover)\n",
    "        print(len(minimum_cover))"
   ]
  },
  {
   "cell_type": "code",
   "execution_count": 261,
   "metadata": {},
   "outputs": [
    {
     "name": "stdout",
     "output_type": "stream",
     "text": [
      "4 4\n",
      "5 46\n",
      "6 304\n",
      "7 1310\n",
      "8 4102\n",
      "9 8684\n",
      "10 11146\n",
      "11 8358\n",
      "12 3484\n",
      "13 452\n",
      "14 8\n"
     ]
    }
   ],
   "source": [
    "x = [len(i) for i in all_kernel_number]\n",
    "\n",
    "unique_x = list(set(x))\n",
    "for i in unique_x:\n",
    "    print(i, x.count(i))\n"
   ]
  },
  {
   "cell_type": "code",
   "execution_count": null,
   "metadata": {},
   "outputs": [],
   "source": []
  }
 ],
 "metadata": {
  "kernelspec": {
   "display_name": "Python 3",
   "language": "python",
   "name": "python3"
  },
  "language_info": {
   "codemirror_mode": {
    "name": "ipython",
    "version": 3
   },
   "file_extension": ".py",
   "mimetype": "text/x-python",
   "name": "python",
   "nbconvert_exporter": "python",
   "pygments_lexer": "ipython3",
   "version": "3.11.3"
  }
 },
 "nbformat": 4,
 "nbformat_minor": 2
}
